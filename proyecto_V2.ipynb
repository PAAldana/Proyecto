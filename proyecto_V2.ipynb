{
 "cells": [
  {
   "cell_type": "code",
   "execution_count": null,
   "metadata": {},
   "outputs": [],
   "source": [
    "import numpy as np \n",
    "import pandas as pd"
   ]
  },
  {
   "cell_type": "code",
   "execution_count": null,
   "metadata": {},
   "outputs": [],
   "source": [
    "def importar(base = ()):\n",
    "    df = pd.read_excel(base)\n",
    "    return df"
   ]
  },
  {
   "cell_type": "code",
   "execution_count": null,
   "metadata": {},
   "outputs": [],
   "source": [
    "def generar_codigo(a=()):\n",
    "    Cod_INE = df[df['Código INE']== a][['Precio_final_Escen','Precio_index','Escenario']]\n",
    "    scenario = Cod_INE['Escenario'].value_counts()\n",
    "    #print(f\"El nùmero de escenarios por fuente de informaciòn es: \\n{scenario}\")\n",
    "    return Cod_INE"
   ]
  },
  {
   "cell_type": "code",
   "execution_count": null,
   "metadata": {},
   "outputs": [],
   "source": [
    "def estimar(codigo = generar_codigo):\n",
    "\n",
    "    Guatecompras = []\n",
    "    Contrato_abierto = []\n",
    "    Precio_int = []\n",
    "    Precios_ant = []\n",
    "    Cotizaciones = []\n",
    "    conjunto_inicial = []\n",
    "    conjunto_muestral = []\n",
    "\n",
    "    for index, row in codigo.iterrows():\n",
    "        if row['Escenario'] == 'Guatecompras':\n",
    "            Guatecompras.append(row['Precio_final_Escen'])\n",
    "            conjunto_inicial.append(row['Escenario'])\n",
    "        elif row['Escenario']  == 'CA':\n",
    "            Contrato_abierto.append(row['Precio_final_Escen'])\n",
    "            conjunto_inicial.append(row['Escenario'])\n",
    "        elif row['Escenario']  == 'Internacional':\n",
    "            Precio_int.append(row['Precio_final_Escen'])\n",
    "            conjunto_inicial.append(row['Escenario'])\n",
    "        elif row['Escenario']  == 'PA':\n",
    "            Precios_ant.append(row['Precio_final_Escen'])\n",
    "            conjunto_inicial.append(row['Escenario'])\n",
    "        elif row['Escenario'] == 'Cotizaciones':\n",
    "            Cotizaciones.append(row['Precio_final_Escen'])\n",
    "            conjunto_inicial.append(row['Escenario'])\n",
    "        else:\n",
    "            print(\"no se encuentra en la base de datos\")\n",
    "    for muestra in conjunto_inicial:\n",
    "        if muestra not in conjunto_muestral:\n",
    "            conjunto_muestral.append(muestra)\n",
    "        \n",
    "    #Guatecompras_df = pd.DataFrame(Guatecompras) SE PUEDE TRABAJAR COMO DATA FRAMES EN LUGAR DE LISTAS DE PYTHON\n",
    "    print(f\"Listado de precios de Guatecompras: \\n {Guatecompras}\\n\")    \n",
    "    print(f\"Listado de precios de Contrato Abierto: \\n {Contrato_abierto}\\n\")  \n",
    "    print(f\"Listado de precios de Precios Internacionales: \\n {Precio_int}\\n\")  \n",
    "    print(f\"Listado de precios de Precios antiguos: \\n {Precios_ant}\\n\")  \n",
    "    print(f\"Listado de precios de Cotizaciones: \\n {Cotizaciones}\\n\")\n",
    "    s = [len(Guatecompras),len(Contrato_abierto),len(Precio_int),len(Precios_ant),len(Cotizaciones)]\n",
    "    print(f\"Cantidad de precios por fuente de informacion: \\nGuatecompras: {len(Guatecompras)} \\nContrato Abierto: {len(Contrato_abierto)} \\nPrecio internacional: {len(Precio_int)} \\nPrecios Antiguos: {len(Precios_ant)} \\nCotizaciones: {len(Cotizaciones)}\\n\")\n",
    "    \n",
    "    s = [elemento for elemento in s if elemento != 0]       \n",
    "    print(f\"el conjuto muesral contiene {len(s)} elementos\")\n",
    "    print(conjunto_muestral)\n",
    "    print()\n",
    "    \n",
    "    from itertools import combinations\n",
    "    for elemento in range(1, len(conjunto_muestral)+1):\n",
    "        combin = list(combinations(conjunto_muestral, elemento))\n",
    "        print(\"Se muestran las posibles combinaciones de muestras\\n\")\n",
    "        print(f\"Para m ={elemento}:\")\n",
    "        for com in combin:\n",
    "            print(combin)\n",
    "        print()\n"
   ]
  },
  {
   "cell_type": "code",
   "execution_count": null,
   "metadata": {},
   "outputs": [],
   "source": [
    "df = importar(\"Prueba Bases.xlsx\")"
   ]
  },
  {
   "cell_type": "code",
   "execution_count": null,
   "metadata": {},
   "outputs": [],
   "source": [
    "df(importar(\"Prueba Bases.xlsx\"))"
   ]
  },
  {
   "cell_type": "code",
   "execution_count": null,
   "metadata": {},
   "outputs": [],
   "source": [
    "generar_codigo('295-592-000')"
   ]
  },
  {
   "cell_type": "code",
   "execution_count": null,
   "metadata": {},
   "outputs": [],
   "source": [
    "estimar(generar_codigo('295-592-000'))"
   ]
  }
 ],
 "metadata": {
  "kernelspec": {
   "display_name": "CienciaDatos2022",
   "language": "python",
   "name": "python3"
  },
  "language_info": {
   "codemirror_mode": {
    "name": "ipython",
    "version": 3
   },
   "file_extension": ".py",
   "mimetype": "text/x-python",
   "name": "python",
   "nbconvert_exporter": "python",
   "pygments_lexer": "ipython3",
   "version": "3.10.6"
  },
  "orig_nbformat": 4
 },
 "nbformat": 4,
 "nbformat_minor": 2
}
